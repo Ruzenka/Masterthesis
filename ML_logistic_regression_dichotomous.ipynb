{
 "cells": [
  {
   "cell_type": "markdown",
   "id": "56ff1e2d-722d-4d3c-869d-08d66fbc323b",
   "metadata": {},
   "source": [
    "# Prepare dataset"
   ]
  },
  {
   "cell_type": "markdown",
   "id": "5f904cdf-434c-4392-837b-56b7921de648",
   "metadata": {},
   "source": [
    "### Clear Solomon data"
   ]
  },
  {
   "cell_type": "markdown",
   "id": "03ad7b39-20aa-4491-bf44-4f1397b666b4",
   "metadata": {},
   "source": [
    "Convert all distant (2) & unclear (3) interactions to no-interaction (0) to ensure dichotomous outcome."
   ]
  },
  {
   "cell_type": "code",
   "execution_count": 2,
   "id": "34c8475a-449e-4bed-8734-a34a88296323",
   "metadata": {},
   "outputs": [
    {
     "name": "stdout",
     "output_type": "stream",
     "text": [
      "Processing DYAD06NF...\n",
      "Saved processed file to /Users/ruzenkakaldenbach/Desktop//Solomon_output/solomon_DYAD06NF_dichotomous.csv\n",
      "Processing DYAD10NF...\n",
      "Saved processed file to /Users/ruzenkakaldenbach/Desktop//Solomon_output/solomon_DYAD10NF_dichotomous.csv\n",
      "Processing DYAD11NF...\n",
      "Saved processed file to /Users/ruzenkakaldenbach/Desktop//Solomon_output/solomon_DYAD11NF_dichotomous.csv\n",
      "Processing DYAD21NF...\n",
      "Saved processed file to /Users/ruzenkakaldenbach/Desktop//Solomon_output/solomon_DYAD21NF_dichotomous.csv\n",
      "Processing DYAD24NF...\n",
      "Saved processed file to /Users/ruzenkakaldenbach/Desktop//Solomon_output/solomon_DYAD24NF_dichotomous.csv\n",
      "Processing complete.\n"
     ]
    }
   ],
   "source": [
    "import pandas as pd\n",
    "\n",
    "# List of dataset names\n",
    "dataset_names = ['DYAD06NF', 'DYAD10NF', 'DYAD11NF', 'DYAD21NF', 'DYAD24NF']\n",
    "\n",
    "# Base directory for input and output\n",
    "input_dir = '/Users/ruzenkakaldenbach/Desktop/Solomon_output/'\n",
    "output_dir = '/Users/ruzenkakaldenbach/Desktop/Solomon_output/'\n",
    "\n",
    "# Process each dataset\n",
    "for dat_name in dataset_names:\n",
    "    print(f\"Processing {dat_name}...\")\n",
    "    \n",
    "    # Load the dataset\n",
    "    file_path = f\"{input_dir}solomon_{dat_name}.csv\"\n",
    "    df = pd.read_csv(file_path)\n",
    "    \n",
    "    # Replace `2` (distant) and `3` (unclear) with `0` (no interaction)\n",
    "    df[['si_ry', 'si_by', 'si_rb']] = df[['si_ry', 'si_by', 'si_rb']].replace({2: 0, 3: 0})\n",
    "    \n",
    "    # Save the modified dataset\n",
    "    output_file = f\"{output_dir}solomon_{dat_name}_dichotomous.csv\"\n",
    "    df.to_csv(output_file, index=False)\n",
    "    print(f\"Saved processed file to {output_file}\")\n",
    "\n",
    "print(\"Processing complete.\")\n"
   ]
  },
  {
   "cell_type": "markdown",
   "id": "e4f67ee2-3533-45f4-9058-88b127215526",
   "metadata": {},
   "source": [
    "### Create a common dataset for Loopy and Solomon data"
   ]
  },
  {
   "cell_type": "markdown",
   "id": "3d7f4b59-11b2-4122-9cdc-c28a87174536",
   "metadata": {},
   "source": [
    "The resulting dataset will contain Loopy data as predictor (distance, angle, facing) and Solomon data as outcome (social interaction). All dyads will be listed one below the other. All spreadsheets will then be listed one below the other."
   ]
  },
  {
   "cell_type": "code",
   "execution_count": null,
   "id": "4671f99e-3aa5-4fad-ab20-4f444b660b01",
   "metadata": {},
   "outputs": [],
   "source": []
  },
  {
   "cell_type": "code",
   "execution_count": null,
   "id": "2b2fcda1-8134-405a-b802-53e0777d6477",
   "metadata": {},
   "outputs": [],
   "source": []
  },
  {
   "cell_type": "code",
   "execution_count": null,
   "id": "8589cee2-19f3-4cff-873a-ee3b7581f70d",
   "metadata": {},
   "outputs": [],
   "source": []
  },
  {
   "cell_type": "code",
   "execution_count": null,
   "id": "52b3326d-4c27-46c2-8a6d-1893ee5a5da2",
   "metadata": {},
   "outputs": [],
   "source": []
  },
  {
   "cell_type": "code",
   "execution_count": null,
   "id": "8c894aa8-4160-499c-a79f-e3a1db0dd1cc",
   "metadata": {},
   "outputs": [],
   "source": []
  },
  {
   "cell_type": "code",
   "execution_count": null,
   "id": "e7a99f92-eaee-458e-a68b-a56812e63fbc",
   "metadata": {},
   "outputs": [],
   "source": []
  },
  {
   "cell_type": "code",
   "execution_count": null,
   "id": "810602da-71c8-4f45-9e7b-04b2cc63baa4",
   "metadata": {},
   "outputs": [],
   "source": []
  },
  {
   "cell_type": "code",
   "execution_count": null,
   "id": "4d285eae-7496-44a3-a363-d6357b6a85aa",
   "metadata": {},
   "outputs": [],
   "source": []
  },
  {
   "cell_type": "markdown",
   "id": "bec1d0c3-1e27-4d5b-905c-2b5afce9aa89",
   "metadata": {},
   "source": [
    "### From the no-interactions rows, drop half randomly"
   ]
  },
  {
   "cell_type": "markdown",
   "id": "814946a1-3019-423a-97db-11c6b305d706",
   "metadata": {},
   "source": [
    "The aim is to have as many non-interactions as interactions, else the ML will be correct by simply predicting non-interactions for all predictors."
   ]
  },
  {
   "cell_type": "code",
   "execution_count": null,
   "id": "e99f40dd-f471-4dc5-9c4c-fa5d16299852",
   "metadata": {},
   "outputs": [],
   "source": []
  }
 ],
 "metadata": {
  "kernelspec": {
   "display_name": "Python 3 (ipykernel)",
   "language": "python",
   "name": "python3"
  },
  "language_info": {
   "codemirror_mode": {
    "name": "ipython",
    "version": 3
   },
   "file_extension": ".py",
   "mimetype": "text/x-python",
   "name": "python",
   "nbconvert_exporter": "python",
   "pygments_lexer": "ipython3",
   "version": "3.13.0"
  }
 },
 "nbformat": 4,
 "nbformat_minor": 5
}
